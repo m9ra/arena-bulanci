{
 "cells": [
  {
   "cell_type": "markdown",
   "metadata": {},
   "source": [
    "# Bulanci - JupyterBot\n",
    "\n",
    "## Join the arena and fight with others!\n",
    "\n",
    "### Rules\n",
    " Rules are simple. Shoot others and don't let them shoot you.\n",
    " \n",
    " The game runs in ticks (15 per second). \n",
    " Every tick you can either rotate, move step forward or shoot (if you have ammo).\n",
    " \n",
    " When killed, your bot respawns after 5 seconds. \n",
    " When you are out of ammo, the gun will be reloaded after 5 seconds (note that the reload timer resets when you die).\n",
    " \n",
    "### Usage\n",
    "1. fill in your email to the cell below\n",
    "2. Run the first cell, live arena will show and your bot will connect\n",
    "3. Run the second cell, your bot will spawn and will be driven by a simple \"Walk&Shoot\" algorithm.\n",
    "4. Modify the code of second cell and rerun it to update bots policy\n",
    " \n",
    " \n",
    "- The `arena-bulanci` framework contains a lot of utility methods (e.g. tools for bullet avoidance)\n",
    "  - basic ones are already used in the example bot implementation\n",
    "  - more advanced features are documented here https://github.com/m9ra/arena-bulanci/blob/master/arena_bulanci/bots/bot_base.py#L25\n",
    "   \n",
    " - For detailed API reference and more execution options besides Jupyter notebook look here: https://github.com/m9ra/arena-bulanci\n",
    " \n",
    " \n",
    "\n",
    " \n",
    "## WARNING: Every person is allowed to have only one bot\n",
    " Please don't spam the arena by multiple usernames. Set your username once and don't change it since (username is configured in the following cell)\n",
    " \n",
    "\n",
    "\n"
   ]
  },
  {
   "cell_type": "code",
   "execution_count": null,
   "metadata": {},
   "outputs": [],
   "source": [
    "# ======== MAIN CELL =====\n",
    "# Connects your bot with the arena\n",
    "\n",
    "# this installs a required package (can be removed if the package is installed already)\n",
    "!pip install jsonpickle \n",
    "\n",
    "from arena_bulanci.core.execution import run_remote_arena_game_for_jupyter\n",
    "from arena_bulanci.core.execution import JUPYTER_BOT\n",
    "\n",
    "JUPYTER_BOT.color = (123, 40, 20) # choose your own color; format: (r,g,b)\n",
    "YOUR_EMAIL = \"!!!FILL ME!!!\" # please provide your email (serves as a username)\n",
    "\n",
    "run_remote_arena_game_for_jupyter(\"packa1.cz\", YOUR_EMAIL)"
   ]
  },
  {
   "cell_type": "code",
   "execution_count": null,
   "metadata": {},
   "outputs": [],
   "source": [
    "#========== BOT DEFINITION CELL ========\n",
    "# Here define your bot behavior. Rerun the cell to update the bot.\n",
    "\n",
    "\n",
    "from arena_bulanci.core.utils import distance\n",
    "\n",
    "next_walk_target = None # example of a global state\n",
    "\n",
    "def play_handler(self): \n",
    "    \"\"\"\n",
    "    here we handle the game logic \n",
    "    it will be called for every game tick\n",
    "     - if your network latency or iteration calculation is too long, then iterations can be skipped\n",
    "     - if your calculations and network are fast enough, this will be called 15 times per second    \n",
    "    \"\"\"\n",
    "    \n",
    "    # import global state\n",
    "    global next_walk_target\n",
    "    \n",
    "    if self.can_shoot and self.try_rotate_towards_shootable_opponent():\n",
    "        # there is someone who could be shot\n",
    "        self.MOVE_shoot()\n",
    "    if next_walk_target is None or distance(self.position, next_walk_target) < 5:\n",
    "        # target reached\n",
    "        next_walk_target = self.get_random_reachable_point()  # choose a different target\n",
    "    else:\n",
    "        # get closer to the target\n",
    "        self.MOVE_go_towards(next_walk_target)\n",
    "    \n",
    "JUPYTER_BOT.handler = play_handler"
   ]
  }
 ],
 "metadata": {
  "kernelspec": {
   "display_name": "Python 3",
   "language": "python",
   "name": "python3"
  },
  "language_info": {
   "codemirror_mode": {
    "name": "ipython",
    "version": 3
   },
   "file_extension": ".py",
   "mimetype": "text/x-python",
   "name": "python",
   "nbconvert_exporter": "python",
   "pygments_lexer": "ipython3",
   "version": "3.7.4"
  },
  "pycharm": {
   "stem_cell": {
    "cell_type": "raw",
    "source": [],
    "metadata": {
     "collapsed": false
    }
   }
  }
 },
 "nbformat": 4,
 "nbformat_minor": 1
}